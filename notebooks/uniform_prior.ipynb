{
 "cells": [
  {
   "cell_type": "code",
   "execution_count": 1,
   "metadata": {},
   "outputs": [
    {
     "data": {
      "image/png": "[encoded data removed]",
      "text/plain": [
       "<Figure size 432x288 with 1 Axes>"
      ]
     },
     "metadata": {
      "needs_background": "light"
     },
     "output_type": "display_data"
    },
    {
     "name": "stdout",
     "output_type": "stream",
     "text": [
      "1592 mutations\n"
     ]
    }
   ],
   "source": [
    "import tsinfer\n",
    "import msprime\n",
    "import tskit\n",
    "import tsdate\n",
    "\n",
    "import numpy as np\n",
    "import matplotlib.pyplot as plt\n",
    "\n",
    "Ne = 10000\n",
    "hist_time=5000\n",
    "mu = 1e-8\n",
    "rho = 0\n",
    "samples = [\n",
    "        msprime.SampleSet(1, time=hist_time, ploidy=1),\n",
    "        msprime.SampleSet(5),\n",
    "    ]\n",
    "mutated_ts = msprime.sim_ancestry(\n",
    "    samples=samples,\n",
    "    population_size=Ne,\n",
    "    sequence_length=2e6,\n",
    "    recombination_rate=rho,\n",
    "    random_seed=1,\n",
    ")\n",
    "mutated_ts = msprime.mutate(mutated_ts, rate=mu, random_seed=1)\n",
    "\n",
    "plt.hist(mutated_ts.nodes_time)\n",
    "plt.title(\"Node times in true ts\")\n",
    "plt.show()\n",
    "print(mutated_ts.num_mutations, \"mutations\")\n",
    "\n",
    "def create_sampledata_with_individual_times(ts):\n",
    "    \"\"\"\n",
    "    The tsinfer.SampleData.from_tree_sequence function doesn't allow different time\n",
    "    units for sites and individuals. This function adds individual times by hand\n",
    "    \"\"\"\n",
    "    # sampledata file with times-as-frequencies\n",
    "    sd = tsinfer.SampleData.from_tree_sequence(ts)\n",
    "    # Set individual times separately - warning: this mixes time units\n",
    "    # so that sites have TIME_UNCALIBRATED but individuals have meaningful times\n",
    "    individual_time = np.full(sd.num_individuals, -1)\n",
    "    for sample, node_id in zip(sd.samples(), ts.samples()):\n",
    "        if individual_time[sample.individual] >= 0:\n",
    "            assert individual_time[sample.individual] == ts.node(node_id).time\n",
    "        individual_time[sample.individual] = ts.node(node_id).time\n",
    "    assert np.all(individual_time >= 0)\n",
    "    sd = sd.copy()\n",
    "    sd.individuals_time[:] = individual_time\n",
    "    sd.finalise()\n",
    "    return sd\n",
    "\n",
    "def set_times_for_historical_samples(ts):\n",
    "    \"\"\"\n",
    "    Use the times stored in the individuals metadata of an inferred tree sequence\n",
    "    to constrain the times.\n",
    "    \"\"\"\n",
    "    tables = ts.dump_tables()\n",
    "    tables.individuals.metadata_schema = tskit.MetadataSchema.permissive_json()\n",
    "    ts = tables.tree_sequence()\n",
    "    times = np.zeros(ts.num_nodes)\n",
    "    # set sample node times of historic samples\n",
    "    for node_id in ts.samples():\n",
    "        individual_id = ts.node(node_id).individual\n",
    "        if individual_id != tskit.NULL:\n",
    "            times[node_id] = ts.individual(individual_id).metadata.get(\"sample_data_time\", 0)\n",
    "    # Just need to make the ts consistent\n",
    "    constrained_times = tsdate.core.constrain_ages_topo(ts, times, eps=1e-1)\n",
    "    tables.nodes.time = constrained_times\n",
    "    tables.mutations.time = np.full(ts.num_mutations, tskit.UNKNOWN_TIME)\n",
    "    tables.sort()\n",
    "    return tables.tree_sequence()"
   ]
  },
  {
   "cell_type": "code",
   "execution_count": 2,
   "metadata": {},
   "outputs": [],
   "source": [
    "#sampledata = create_sampledata_with_individual_times(mutated_ts)\n",
    "#inferred_ts = tsinfer.infer(sampledata)\n",
    "#inferred_ts_w_times = set_times_for_historical_samples(inferred_ts).simplify()\n",
    "\n",
    "prior = tsdate.build_prior_grid(mutated_ts, Ne=Ne, allow_historical_samples=True, truncate_priors=True, node_var_override={0:1000})"
   ]
  },
  {
   "cell_type": "code",
   "execution_count": 3,
   "metadata": {},
   "outputs": [],
   "source": [
    "# Make a uniform prior over all timeslices\n",
    "prior[0] = np.concatenate(([0],np.diff(prior.timepoints)/np.max(np.diff(prior.timepoints))))\n",
    "hist_prior = prior[0].copy()"
   ]
  },
  {
   "cell_type": "code",
   "execution_count": 4,
   "metadata": {},
   "outputs": [],
   "source": [
    "# date\n",
    "dated_ts, posteriors = tsdate.date(mutated_ts, priors=prior, mutation_rate=mu, return_posteriors=True)"
   ]
  },
  {
   "cell_type": "code",
   "execution_count": 6,
   "metadata": {},
   "outputs": [
    {
     "data": {
      "image/png": "[encoded data removed]",
      "text/plain": [
       "<Figure size 1440x360 with 2 Axes>"
      ]
     },
     "metadata": {
      "needs_background": "light"
     },
     "output_type": "display_data"
    }
   ],
   "source": [
    "fig, axes = plt.subplots(1, 2, figsize=(20, 5))\n",
    "prior_pdf = hist_prior[1:]/np.diff(prior.timepoints)\n",
    "max_prior = np.max(prior_pdf)\n",
    "posterior_pdf = posteriors[0]/(posteriors['end_time'] - posteriors['start_time'])\n",
    "for ax in axes:\n",
    "    ax.stairs(prior_pdf, prior.timepoints)\n",
    "    ax.stairs(posterior_pdf / max(posterior_pdf) * max_prior, np.concatenate((posteriors['start_time'][:1], posteriors['end_time'])))\n",
    "    ax.axvline(hist_time, c=\"red\")\n",
    "    ax.set_title(f\"Historical node 0 time: true = red, prior = blue, posterior = orange\")\n",
    "    ax.set_xlabel(f\"Time ({dated_ts.time_units})\")\n",
    "axes[1].set_xscale(\"log\")"
   ]
  },
  {
   "cell_type": "code",
   "execution_count": null,
   "metadata": {},
   "outputs": [],
   "source": []
  },
  {
   "cell_type": "code",
   "execution_count": null,
   "metadata": {},
   "outputs": [],
   "source": []
  },
  {
   "cell_type": "code",
   "execution_count": null,
   "metadata": {},
   "outputs": [],
   "source": []
  }
 ],
 "metadata": {
  "kernelspec": {
   "display_name": "Python 3",
   "language": "python",
   "name": "python3"
  },
  "language_info": {
   "codemirror_mode": {
    "name": "ipython",
    "version": 3
   },
   "file_extension": ".py",
   "mimetype": "text/x-python",
   "name": "python",
   "nbconvert_exporter": "python",
   "pygments_lexer": "ipython3",
   "version": "3.9.1"
  }
 },
 "nbformat": 4,
 "nbformat_minor": 4
}
